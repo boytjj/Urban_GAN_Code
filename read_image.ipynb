{
 "cells": [
  {
   "cell_type": "markdown",
   "source": [
    "# Read Image and conver to numpy for machine learning"
   ],
   "metadata": {}
  },
  {
   "cell_type": "code",
   "execution_count": 1,
   "source": [
    "from PIL import Image\r\n",
    "from PIL import ImageColor\r\n",
    "import numpy as np\r\n",
    "import glob"
   ],
   "outputs": [],
   "metadata": {}
  },
  {
   "cell_type": "code",
   "execution_count": 3,
   "source": [
    "# Import all images\r\n",
    "path_land = './new_merge_blks'\r\n",
    "path_buld = './new_merge_blds'\r\n",
    "\r\n",
    "land_folders = ['remain_blks1','remain_blks2','remain_blks3_1','remain_blks3_2','remain_blks3_3','remain_blks4']\r\n",
    "buld_folders = ['remain_blds1','remain_blds2','remain_blds3_1','remain_blds3_2','remain_blds3_3','remain_blkd4']\r\n",
    "\r\n",
    "\r\n",
    "\r\n",
    "\r\n",
    "        "
   ],
   "outputs": [
    {
     "output_type": "stream",
     "name": "stdout",
     "text": [
      "632 632\n"
     ]
    }
   ],
   "metadata": {}
  },
  {
   "cell_type": "code",
   "execution_count": 2,
   "source": [
    "h_colorcode = ['#FFFFFF','#FF7E7E', '#FF5A5A', '#FF2424', '#FF0000', '#DB0000', '#B70000',\r\n",
    "               '#A50000', '#810000', '#FF0080', '#5D0000']\r\n",
    "h_colorrgb = []\r\n",
    "for i in h_colorcode:\r\n",
    "    rgb = ImageColor.getcolor(i, 'RGB')\r\n",
    "    h_colorrgb.append(rgb)\r\n",
    "h_dict = {}\r\n",
    "for k, v in enumerate(h_colorrgb):\r\n",
    "    h_dict[v] = k\r\n",
    "    print(type(v))\r\n",
    "print(h_dict)"
   ],
   "outputs": [
    {
     "output_type": "stream",
     "name": "stdout",
     "text": [
      "<class 'tuple'>\n",
      "<class 'tuple'>\n",
      "<class 'tuple'>\n",
      "<class 'tuple'>\n",
      "<class 'tuple'>\n",
      "<class 'tuple'>\n",
      "<class 'tuple'>\n",
      "<class 'tuple'>\n",
      "<class 'tuple'>\n",
      "<class 'tuple'>\n",
      "<class 'tuple'>\n",
      "{(255, 255, 255): 0, (255, 126, 126): 1, (255, 90, 90): 2, (255, 36, 36): 3, (255, 0, 0): 4, (219, 0, 0): 5, (183, 0, 0): 6, (165, 0, 0): 7, (129, 0, 0): 8, (255, 0, 128): 9, (93, 0, 0): 10}\n"
     ]
    }
   ],
   "metadata": {}
  },
  {
   "cell_type": "code",
   "execution_count": 3,
   "source": [
    "# Convert image to numpy\r\n",
    "def img_to_np(imgs):\r\n",
    "    '''\r\n",
    "    Convert image file to numpy array\r\n",
    "    Input: list of images / Output: array of array\r\n",
    "    '''\r\n",
    "    np_list = []\r\n",
    "    for img in imgs:\r\n",
    "        img.size\r\n",
    "        tmp = np.asarray(img)\r\n",
    "        np_list.append(tmp)\r\n",
    "    nps = np.asarray(np_list)    \r\n",
    "    \r\n",
    "    return nps\r\n"
   ],
   "outputs": [],
   "metadata": {}
  },
  {
   "cell_type": "code",
   "execution_count": null,
   "source": [
    "512*512*4"
   ],
   "outputs": [],
   "metadata": {}
  },
  {
   "cell_type": "code",
   "execution_count": 4,
   "source": [
    "# Add height column using color code\r\n",
    "   \r\n",
    "def height_pixel(imgs):\r\n",
    "    '''\r\n",
    "    Add height value using color code of by each pixel\r\n",
    "    Input: array of array / Output: array of array\r\n",
    "    '''\r\n",
    "    dim = 512*512*n_buld\r\n",
    "    rowx4 = imgs.reshape(dim, 4)\r\n",
    "    #print(rowx4)\r\n",
    "    rowx3 = rowx4[:, :3]\r\n",
    "    array_h = rowx3[:,0]/255\r\n",
    "    array_h[array_h == 1] = 0\r\n",
    "    array_h= array_h.reshape(dim,1)\r\n",
    "    rowx4h = np.hstack([rowx3, array_h])\r\n",
    "    height_pts = array_h.reshape(n_buld, 512, 512, 1)\r\n",
    "    \r\n",
    "    #print((np.unique(rowx3, axis = 0)))\r\n",
    "    #unique, counts = np.unique(rowx3[:,0], return_counts = True, axis = 0)\r\n",
    "    #red_count = np.asarray((unique, counts)).T\r\n",
    "    #print(red_count[red_count[:, 1].argsort()][::-1])\r\n",
    "    #h_list = [h_dict[tuple(i)] for i in rowx3]\r\n",
    "    #print(h_list)\r\n",
    "    \r\n",
    "    return height_pts\r\n",
    "\r\n",
    "\r\n",
    "#print(heightPts)"
   ],
   "outputs": [],
   "metadata": {}
  },
  {
   "cell_type": "code",
   "execution_count": null,
   "source": [
    "sample_pt = buld_arrays[0][0][0][:-1].reshape(3)\r\n",
    "print(*sample_pt)\r\n",
    "print('#{:02x}{:02x}{:02x}'.format(*sample_pt))"
   ],
   "outputs": [],
   "metadata": {}
  },
  {
   "cell_type": "code",
   "execution_count": 5,
   "source": [
    "# Merge block and height array\r\n",
    "def merge_np(block, height):\r\n",
    "    '''\r\n",
    "    Merge block and height data by each pixel\r\n",
    "    Input: array of array, array of array / Output: array of array\r\n",
    "    '''\r\n",
    "    dim = n_land*512*512\r\n",
    "    blockx4 = block.reshape(dim, 4)\r\n",
    "    blockx3 = blockx4[:, :3]/255\r\n",
    "    heightx1 = height.reshape(dim, 1)\r\n",
    "    mergedx4 = np.hstack([blockx3, heightx1])\r\n",
    "    merged_pts = mergedx4.reshape(n_land, 512, 512, 4)\r\n",
    "    return merged_pts\r\n",
    "\r\n",
    "\r\n",
    "#mergedPts"
   ],
   "outputs": [],
   "metadata": {}
  },
  {
   "cell_type": "code",
   "execution_count": 19,
   "source": [
    "land_folders4 = ['remain_blks4_1','remain_blks4_2','remain_blks4_3','remain_blks4_4','remain_blks4_5' ]\r\n",
    "buld_folders4 = ['remain_blds4_1','remain_blds4_2','remain_blds4_3','remain_blds4_4','remain_blds4_5' ]\r\n",
    "\r\n",
    "\r\n",
    "land_folders = ['remain_blks1','remain_blks2','remain_blks3_1','remain_blks3_2','remain_blks3_3','remain_blks4']\r\n",
    "buld_folders = ['remain_blds1','remain_blds2','remain_blds3_1','remain_blds3_2','remain_blds3_3','remain_blkd4']\r\n",
    "\r\n",
    "adjust = ['1', '2', '4_3', '4_4', '4_5']\r\n",
    "for i in adjust: \r\n",
    "    land_imgs = []\r\n",
    "    buld_imgs = []\r\n",
    "    for filename in glob.glob('./remain_blks{}/*.png'.format(i)):\r\n",
    "        land_img = Image.open(filename)\r\n",
    "        land_imgs.append(land_img)\r\n",
    "    #land_imgs = land_imgs[:-1]    \r\n",
    "    for filename in glob.glob('./remain_blds{}/*.png'.format(i)):\r\n",
    "        buld_img = Image.open(filename)\r\n",
    "        buld_imgs.append(buld_img)\r\n",
    "\r\n",
    "    n_land = len(land_imgs)\r\n",
    "    n_buld = len(buld_imgs)\r\n",
    "    print(n_land, n_buld)\r\n",
    "\r\n",
    "    land_arrays = img_to_np(land_imgs)\r\n",
    "    buld_arrays = img_to_np(buld_imgs)\r\n",
    "    print(land_arrays.shape)\r\n",
    "    print(buld_arrays.shape)\r\n",
    "    heightPts = height_pixel(buld_arrays)\r\n",
    "    mergedPts = merge_np(land_arrays, heightPts)\r\n",
    "    for k, v in enumerate(mergedPts):\r\n",
    "        rgb = v*255\r\n",
    "        tensor = np.array(rgb, dtype=np.uint8)\r\n",
    "        a = Image.fromarray(tensor)\r\n",
    "        a.save('./new_merge{}/sample_{}.png'.format(i,k))"
   ],
   "outputs": [
    {
     "output_type": "stream",
     "name": "stdout",
     "text": [
      "350 350\n",
      "(350, 512, 512, 4)\n",
      "(350, 512, 512, 4)\n",
      "412 412\n",
      "(412, 512, 512, 4)\n",
      "(412, 512, 512, 4)\n",
      "700 700\n",
      "(700, 512, 512, 4)\n",
      "(700, 512, 512, 4)\n",
      "700 700\n",
      "(700, 512, 512, 4)\n",
      "(700, 512, 512, 4)\n",
      "556 556\n",
      "(556, 512, 512, 4)\n",
      "(556, 512, 512, 4)\n"
     ]
    }
   ],
   "metadata": {}
  },
  {
   "cell_type": "code",
   "execution_count": null,
   "source": [
    "np.save('./new_merge/sample', mergedPts)"
   ],
   "outputs": [],
   "metadata": {}
  },
  {
   "cell_type": "code",
   "execution_count": null,
   "source": [
    "print(mergedPts.shape)\r\n",
    "with open('samp_merge/samp.npy', 'rb') as f:\r\n",
    "    a = np.load(f)\r\n",
    "    print(a.shape)"
   ],
   "outputs": [],
   "metadata": {}
  }
 ],
 "metadata": {
  "orig_nbformat": 4,
  "language_info": {
   "name": "python",
   "version": "3.8.5",
   "mimetype": "text/x-python",
   "codemirror_mode": {
    "name": "ipython",
    "version": 3
   },
   "pygments_lexer": "ipython3",
   "nbconvert_exporter": "python",
   "file_extension": ".py"
  },
  "kernelspec": {
   "name": "python3",
   "display_name": "Python 3.8.5 64-bit ('base': conda)"
  },
  "interpreter": {
   "hash": "ff5e454fa5552c7d804ce6af45524330e997a6af6b806cd20eee78b4fc64ba76"
  }
 },
 "nbformat": 4,
 "nbformat_minor": 2
}