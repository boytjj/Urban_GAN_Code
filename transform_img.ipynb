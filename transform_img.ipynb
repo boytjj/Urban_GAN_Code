{
 "cells": [
  {
   "cell_type": "markdown",
   "source": [
    "# Transform Image 2D to 3D"
   ],
   "metadata": {}
  },
  {
   "cell_type": "code",
   "execution_count": 1,
   "source": [
    "from PIL import Image\r\n",
    "from PIL import ImageColor\r\n",
    "#import cv2\r\n",
    "import glob\r\n",
    "import matplotlib.pyplot as plt\r\n",
    "import matplotlib.image as mpimg\r\n",
    "from matplotlib import animation\r\n",
    "import numpy as np"
   ],
   "outputs": [],
   "metadata": {}
  },
  {
   "cell_type": "code",
   "execution_count": 2,
   "source": [
    "path_true = './transform_3D/'\r\n",
    "path_fake = './64_200_img_sample/'"
   ],
   "outputs": [],
   "metadata": {}
  },
  {
   "cell_type": "code",
   "execution_count": 3,
   "source": [
    "def rgb_to_hex(r, g, b):\r\n",
    "        r, g, b = int(r), int(g), int(b)\r\n",
    "        return '#' + hex(r)[2:].zfill(2) + hex(g)[2:].zfill(2) + hex(b)[2:].zfill(2)"
   ],
   "outputs": [],
   "metadata": {}
  },
  {
   "cell_type": "code",
   "execution_count": 4,
   "source": [
    "#Plot image\r\n",
    "def plot_3D(img):\r\n",
    "    '''\r\n",
    "    Plot 3D image from image with alpha channel as z value\r\n",
    "    Input: image / Output: plt, image\r\n",
    "    '''\r\n",
    "    img_np = np.asarray(img)\r\n",
    "    h, w, c = img_np.shape\r\n",
    "    fig, ax = plt.subplots(ncols = 2, figsize = (10, 5), subplot_kw = {'projection':'3d'})\r\n",
    "    \r\n",
    "    for i in range(h):\r\n",
    "        for j in range(w):\r\n",
    "            z = img_np[i, j, -1]\r\n",
    "            [r, g, b] = img_np[i, j, :3]\r\n",
    "            color = rgb_to_hex(r, g, b)\r\n",
    "            ax[0].scatter3D(i, j, z, c = color, s = 10)\r\n",
    "            ax[1].bar3d([i],[j], [0], 1, 1, [z], color = color)\r\n",
    "    \r\n",
    "    return fig, ax"
   ],
   "outputs": [],
   "metadata": {}
  },
  {
   "cell_type": "code",
   "execution_count": null,
   "source": [
    "for i, filename in enumerate(glob.glob(path_fake + '*.png')):\r\n",
    "        img = Image.open(filename)\r\n",
    "        fig, ax = plot_3D(img)\r\n",
    "        plt.savefig(path_fake[:-1] + '_3D/img_3D_{}'.format(str(i)))"
   ],
   "outputs": [],
   "metadata": {}
  },
  {
   "cell_type": "code",
   "execution_count": 6,
   "source": [
    "#Plot image\r\n",
    "def anim_plot_3D():\r\n",
    "    '''\r\n",
    "    Plot 3D image from image with alpha channel as z value\r\n",
    "    Input: image / Output: plt, image\r\n",
    "    '''\r\n",
    "    img2 = Image.open(filename)\r\n",
    "    img_np = np.asarray(img2)\r\n",
    "    h, w, c = img_np.shape\r\n",
    "    \r\n",
    "    for i in range(h):\r\n",
    "        for j in range(w):\r\n",
    "            z = img_np[i, j, -1]\r\n",
    "            [r, g, b] = img_np[i, j, :3]\r\n",
    "            color = rgb_to_hex(r, g, b)\r\n",
    "            _ax[0].scatter3D(i, j, z, c = color, s = 10)\r\n",
    "            _ax[1].bar3d([i],[j], [0], 1, 1, [z], color = color)\r\n",
    "    \r\n",
    "    return _fig,"
   ],
   "outputs": [],
   "metadata": {}
  },
  {
   "cell_type": "code",
   "execution_count": 7,
   "source": [
    "def animate(i):\r\n",
    "    _ax[0].view_init(elev=30, azim = i)\r\n",
    "    _ax[1].view_init(elev=30, azim = i)\r\n",
    "    return _fig,"
   ],
   "outputs": [],
   "metadata": {}
  },
  {
   "cell_type": "code",
   "execution_count": 8,
   "source": [
    "for i, filename in enumerate(glob.glob(path_fake + '*.png')):\r\n",
    "        img = Image.open(filename)\r\n",
    "        _fig, _ax = plt.subplots(ncols = 2, figsize = (10, 5), subplot_kw = {'projection':'3d'})\r\n",
    "        anim = animation.FuncAnimation(_fig, animate, init_func = anim_plot_3D, frames = 360, interval = 20, blit = True)\r\n",
    "        anim.save(path_fake[:-1] + '_anim/anim_3D_{}.gif'.format(str(i)), fps = 30)"
   ],
   "outputs": [],
   "metadata": {}
  },
  {
   "cell_type": "code",
   "execution_count": null,
   "source": [
    "#img2 = Image.open('./64_100_img/image_0.png')\r\n",
    "\r\n",
    "#fig, axs = plt.subplots(ncols = 2, figsize = (10, 5), subplot_kw = {'projection':'3d'})\r\n",
    "    \r\n",
    "#fig2 = plot_3D(img2)\r\n",
    "anim = animation.FuncAnimation(_fig, animate, init_func = anim_plot_3D, frames = 360, interval = 20, blit = True)\r\n",
    "anim.save('./64_100_img/3D_0.gif', fps = 30)"
   ],
   "outputs": [],
   "metadata": {}
  },
  {
   "cell_type": "code",
   "execution_count": null,
   "source": [
    "r, g, b, alpha = to_rgba(img)\r\n",
    "plt.imshow(img)"
   ],
   "outputs": [],
   "metadata": {}
  },
  {
   "cell_type": "code",
   "execution_count": null,
   "source": [
    "#plt.imshow(img)\r\n",
    "img2 = cv2.merge([r, g, b, alpha])\r\n",
    "plt.imshow(img2)"
   ],
   "outputs": [],
   "metadata": {}
  },
  {
   "cell_type": "code",
   "execution_count": null,
   "source": [
    "# Convert image to numpy\r\n",
    "def imgs_to_np(imgs):\r\n",
    "    '''\r\n",
    "    Convert image file to numpy array\r\n",
    "    Input: list of images / Output: array of array\r\n",
    "    '''\r\n",
    "    np_list = []\r\n",
    "    for img in imgs:\r\n",
    "        img.size\r\n",
    "        tmp = np.asarray(img)\r\n",
    "        np_list.append(tmp)\r\n",
    "    nps = np.asarray(np_list)    \r\n",
    "    \r\n",
    "    return nps"
   ],
   "outputs": [],
   "metadata": {}
  },
  {
   "cell_type": "code",
   "execution_count": null,
   "source": [
    "# Extract r, g, b, alpha\r\n",
    "def to_rgba(img):\r\n",
    "    '''\r\n",
    "    Extract r, g, b, alpha value from image\r\n",
    "    Input: image / Output: list of array\r\n",
    "    '''\r\n",
    "    img_np = np.asarray(img)\r\n",
    "    r, g, b, alpha = img_np[:, :, 0], img_np[:, :, 1], img_np[:, :, 2], img_np[:, :, 3]\r\n",
    "    \r\n",
    "    return r, g, b, alpha"
   ],
   "outputs": [],
   "metadata": {}
  }
 ],
 "metadata": {
  "orig_nbformat": 4,
  "language_info": {
   "name": "python",
   "version": "3.8.5",
   "mimetype": "text/x-python",
   "codemirror_mode": {
    "name": "ipython",
    "version": 3
   },
   "pygments_lexer": "ipython3",
   "nbconvert_exporter": "python",
   "file_extension": ".py"
  },
  "kernelspec": {
   "name": "python3",
   "display_name": "Python 3.8.5 64-bit ('base': conda)"
  },
  "interpreter": {
   "hash": "ff5e454fa5552c7d804ce6af45524330e997a6af6b806cd20eee78b4fc64ba76"
  }
 },
 "nbformat": 4,
 "nbformat_minor": 2
}