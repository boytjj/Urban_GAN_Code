{
 "cells": [
  {
   "cell_type": "markdown",
   "source": [
    "# Get Image from given GIS data\r\n",
    "\r\n",
    "+ Read shp file from ../Rawdata\r\n",
    "+ Overlay layers according to color\r\n",
    "+ Extract images by 128 by 128"
   ],
   "metadata": {}
  },
  {
   "cell_type": "code",
   "execution_count": 1,
   "source": [
    "import geopandas as gpd\r\n",
    "import numpy as np\r\n",
    "from shapely.geometry import Polygon\r\n",
    "import matplotlib.pyplot as plt\r\n",
    "from matplotlib.colors import ListedColormap\r\n",
    "import pandas as pd\r\n",
    "from PIL import Image"
   ],
   "outputs": [],
   "metadata": {}
  },
  {
   "cell_type": "code",
   "execution_count": 2,
   "source": [
    "path = '../Rawdata/Total/'\r\n",
    "EMD = path + 'Seoul_EMD.shp'\r\n",
    "Parcel = path + 'Seoul_Parcel.shp'\r\n",
    "Landuse = path + 'Seoul_Landuse.shp'\r\n",
    "Building = path + 'Seoul_BULD.shp'\r\n",
    "Road = path + 'Seoul_RW.shp'\r\n",
    "Block = path + 'Seoul_Block.shp'"
   ],
   "outputs": [],
   "metadata": {}
  },
  {
   "cell_type": "code",
   "execution_count": null,
   "source": [
    "#Sample_path = '../Rawdata/Sample/'\r\n",
    "#EMD = Sample_path + 'Sample_EMD.shp'\r\n",
    "#Block = Sample_path + 'Sample_Boundary.shp'\r\n",
    "#Parcel = Sample_path + 'Sample_Parcel_2.shp'\r\n",
    "#Landuse = Sample_path + 'Sample_Landuse.shp'\r\n",
    "#Building = Sample_path + 'Sample_BULD.shp'\r\n",
    "#Road = Sample_path + 'Sample_RW.shp'\r\n",
    "#Block = Sample_path + 'Sample_Block.shp'\r\n"
   ],
   "outputs": [],
   "metadata": {}
  },
  {
   "cell_type": "code",
   "execution_count": 3,
   "source": [
    "#Read File\r\n",
    "EMD_gdf = gpd.read_file(EMD)\r\n",
    "Parcel_gdf = gpd.read_file(Parcel)\r\n",
    "#Landuse_gdf = gpd.read_file(Landuse)\r\n",
    "Building_gdf = gpd.read_file(Building)\r\n",
    "#Road_gdf = gpd.read_file(Road)\r\n",
    "Block_gdf = gpd.read_file(Block)\r\n",
    "\r\n",
    "EMD_gdf = EMD_gdf.to_crs(epsg = 5179)\r\n",
    "Parcel_gdf = Parcel_gdf.to_crs(epsg = 5179)\r\n",
    "#Landuse_gdf = Landuse_gdf.to_crs(epsg = 5179)\r\n",
    "Building_gdf =  Building_gdf.to_crs(epsg = 5179)\r\n",
    "#Road_gdf =  Road_gdf.to_crs(epsg = 5179)\r\n",
    "Block_gdf = Block_gdf.to_crs(epsg = 5179)"
   ],
   "outputs": [],
   "metadata": {}
  },
  {
   "cell_type": "code",
   "execution_count": 4,
   "source": [
    "\r\n",
    "ColorCode = {'UQA110': [245,245,7, '#F5F507'],\r\n",
    "             'UQA111': [237, 248, 91, '#EDF85B'],\r\n",
    "             'UQA112': [222, 237, 36, '#DEED24'],\r\n",
    "             'UQA120': [248, 255, 105, '#F8FF69'],\r\n",
    "             'UQA121': [247, 238, 48, '#F7EE30'],\r\n",
    "             'UQA122': [252, 221, 43, '#FCDD2B'],\r\n",
    "             'UQA123': [245, 203, 31, '#F5CB1F'],\r\n",
    "             'UQA124': [245, 203, 31, '#F5CB1F'],\r\n",
    "             'UQA130': [220, 168, 7, '#DCA807'],\r\n",
    "             'UQA210': [211, 107, 66, '#D36B42'],\r\n",
    "             'UQA220': [231, 153, 107, '#E7996B'],\r\n",
    "             'UQA230': [241, 182, 140, '#F1B68C'],\r\n",
    "             'UQA240': [253, 213, 172, '#FDD5AC'],\r\n",
    "             'UQA330': [169, 169, 255, '#A9A9FF'],\r\n",
    "             'UQA410': [157, 147, 79, '#9D934F'],\r\n",
    "             'UQA420': [116, 215, 83, '#74D753'],\r\n",
    "             'UQA430': [96, 202, 96, '#60CA60'],\r\n",
    "             'UQA999': [169, 169, 169, '#A9A9A9']}\r\n",
    "ColorCode_RGB = {k: v[:3] for k, v in ColorCode.items()}\r\n",
    "ColorCode_16 = {k: v[-1] for k, v in ColorCode.items()}\r\n",
    "print(ColorCode_16)"
   ],
   "outputs": [
    {
     "output_type": "stream",
     "name": "stdout",
     "text": [
      "{'UQA110': '#F5F507', 'UQA111': '#EDF85B', 'UQA112': '#DEED24', 'UQA120': '#F8FF69', 'UQA121': '#F7EE30', 'UQA122': '#FCDD2B', 'UQA123': '#F5CB1F', 'UQA124': '#F5CB1F', 'UQA130': '#DCA807', 'UQA210': '#D36B42', 'UQA220': '#E7996B', 'UQA230': '#F1B68C', 'UQA240': '#FDD5AC', 'UQA330': '#A9A9FF', 'UQA410': '#9D934F', 'UQA420': '#74D753', 'UQA430': '#60CA60', 'UQA999': '#A9A9A9'}\n"
     ]
    }
   ],
   "metadata": {}
  },
  {
   "cell_type": "code",
   "execution_count": 5,
   "source": [
    "# Add Color dictionary in Landuse\r\n",
    "Landuse_gdf['color'] = Landuse_gdf['CODE']\r\n",
    "Landuse_gdf = Landuse_gdf.replace({'color': ColorCode_16})"
   ],
   "outputs": [],
   "metadata": {}
  },
  {
   "cell_type": "code",
   "execution_count": 4,
   "source": [
    "\r\n",
    "def trim_layer(boundary, target):\r\n",
    "    '''\r\n",
    "    Trim given target layer according to the boundary layer\r\n",
    "    Input: GeoDataFrame, GeoDataFrame / Output: GeoDataFrame\r\n",
    "    '''\r\n",
    "    trimmed_layer = gpd.overlay(boundary, target)\r\n",
    "    return trimmed_layer\r\n",
    "\r\n",
    "#trimmed_layer = trim_layer(Block_gdf, Road_gdf)\r\n",
    "#trimmed_layer.plot()\r\n"
   ],
   "outputs": [],
   "metadata": {}
  },
  {
   "cell_type": "code",
   "execution_count": 5,
   "source": [
    "# Get trimmed layer by every district\r\n",
    "def get_districts(boundary, target):\r\n",
    "    '''\r\n",
    "    Trim Every layers by Dong\r\n",
    "    Input: GeoDataFrame, GeoDataFrame / Output: List ofUQ GeoDataFrame\r\n",
    "    '''\r\n",
    "    total = len(boundary)\r\n",
    "    trimmed_layers = []\r\n",
    "    for k, v in boundary.iterrows():\r\n",
    "        p1 = v.geometry\r\n",
    "        g = gpd.GeoSeries([p1])\r\n",
    "        gdf = gpd.GeoDataFrame(crs = 'EPSG:5179', geometry = g)\r\n",
    "        temp = trim_layer(gdf, target)\r\n",
    "        trimmed_layers.append(temp)\r\n",
    "        if k % 100 == 0 and k >= 100:\r\n",
    "            print('{}/{}'.format(k, total))\r\n",
    "    return trimmed_layers\r\n",
    "#trimmed_LUs = get_districts(Block_gdf, Landuse_gdf)\r\n",
    "#trimmed_RWs = get_districts(Block_gdf, Road_gdf)\r\n",
    "#trimmed_PCLs = get_districts(Block_gdf, Parcel_gdf)\r\n",
    "#rimmed_BULDs = get_districts(Block_gdf, Building_gdf)\r\n",
    "#trimmed_BLKs = get_districts(EMD_gdf, Block_gdf)"
   ],
   "outputs": [],
   "metadata": {}
  },
  {
   "cell_type": "code",
   "execution_count": 6,
   "source": [
    "EMD_gdf = EMD_gdf[:100]\r\n",
    "EMD_BLKs = get_districts(EMD_gdf, Block_gdf)\r\n",
    "#EMD_LUs = get_districts(EMD_gdffrom200, Landuse_gdf)\r\n",
    "#EMD_RWs = get_districts(EMD_gdffrom200, Road_gdf)\r\n",
    "EMD_PCLs = get_districts(EMD_gdf, Parcel_gdf)\r\n",
    "EMD_BULDs = get_districts(EMD_gdf, Building_gdf)\r\n",
    "\r\n"
   ],
   "outputs": [],
   "metadata": {}
  },
  {
   "cell_type": "code",
   "execution_count": 7,
   "source": [
    "#LUs4 = EMD_LUs\r\n",
    "\r\n",
    "BLKs3 = EMD_BLKs\r\n",
    "\r\n",
    "#RWs4 = EMD_RWs\r\n",
    "\r\n",
    "PCLs3 = EMD_PCLs\r\n",
    "\r\n",
    "BULDs3 = EMD_BULDs"
   ],
   "outputs": [],
   "metadata": {}
  },
  {
   "cell_type": "code",
   "execution_count": null,
   "source": [
    "n = len(BLKs4)\r\n",
    "print(len(LUs4),len(RWs4),len(PCLs4),len(BULDs4))\r\n",
    "print(n)"
   ],
   "outputs": [],
   "metadata": {}
  },
  {
   "cell_type": "code",
   "execution_count": null,
   "source": [
    "trimmed_LUs = []\r\n",
    "trimmed_RWs = []\r\n",
    "trimmed_PCLs = []\r\n",
    "trimmed_BULDs = []\r\n",
    "n = len(BLKs3)\r\n",
    "#print(len(LUs4),len(RWs4),len(PCLs4),len(BULDs4))\r\n",
    "for k, v in enumerate(BLKs3):\r\n",
    "    #trimmed_LUs.append(get_districts(v, LUs4[k]))\r\n",
    "    #trimmed_RWs.append(get_districts(v, RWs4[k]))\r\n",
    "    trimmed_PCLs.append(get_districts(v, PCLs3[k]))\r\n",
    "    trimmed_BULDs.append(get_districts(v, BULDs3[k]))\r\n",
    "    \r\n",
    "    if k % 20 == 0:\r\n",
    "        print('{}/{}'.format(k, n))\r\n",
    "    \r\n",
    "print(len(trimmed_LUs))"
   ],
   "outputs": [],
   "metadata": {}
  },
  {
   "cell_type": "code",
   "execution_count": 11,
   "source": [
    "#print(len(LUs3),len(RWs4),len(PCLs4),len(BULDs4))\r\n",
    "print(len(trimmed_LUs), len(trimmed_RWs), len(trimmed_PCLs), len(trimmed_BULDs))"
   ],
   "outputs": [
    {
     "output_type": "stream",
     "name": "stdout",
     "text": [
      "0 0 100 100\n"
     ]
    }
   ],
   "metadata": {}
  },
  {
   "cell_type": "code",
   "execution_count": 11,
   "source": [
    "def flatten(t):\r\n",
    "    return [item for sublist in t for item in sublist]\r\n",
    "\r\n",
    "trimmed_LUs4 = flatten(trimmed_LUs)\r\n",
    "trimmed_RWs4 = flatten(trimmed_RWs)\r\n",
    "trimmed_PCLs4 = flatten(trimmed_PCLs)\r\n",
    "trimmed_BULDs4 = flatten(trimmed_BULDs)\r\n",
    "trimmed_BLKs4 = flatten(BLKs3)\r\n",
    "\r\n",
    "print(len(trimmed_LUs4), len(trimmed_RWs4), len(trimmed_PCLs4), len(trimmed_BULDs4), len(trimmed_BLKs4))\r\n"
   ],
   "outputs": [
    {
     "output_type": "stream",
     "name": "stdout",
     "text": [
      "0 0 5191 5191 334\n"
     ]
    }
   ],
   "metadata": {}
  },
  {
   "cell_type": "code",
   "execution_count": null,
   "source": [
    "trimmed_BLKs1 = flatten(BLKs1)"
   ],
   "outputs": [],
   "metadata": {}
  },
  {
   "cell_type": "code",
   "execution_count": null,
   "source": [
    "print(len(trimmed_BULDs1))"
   ],
   "outputs": [],
   "metadata": {}
  },
  {
   "cell_type": "code",
   "execution_count": null,
   "source": [
    "# Give Color code on land use\r\n",
    "def useColorcode(target_list):\r\n",
    "    '''\r\n",
    "    Apply color code on land use gdf to export img\r\n",
    "    Input: List of List of GeoDataFrame  / Output: png\r\n",
    "    '''\r\n",
    "    LUs, RWs, PCLs = target_list\r\n",
    "    n = len(LUs)\r\n",
    "    print(n)\r\n",
    "    my_dpi = 96\r\n",
    "    for i in range(n):\r\n",
    "        fig, ax = plt.subplots(figsize = (512/my_dpi, 512/my_dpi), dpi = my_dpi)\r\n",
    "        ax.set_axis_off()\r\n",
    "        ax.set_aspect('equal')\r\n",
    "        LUs[i].plot(ax = ax, color = LUs[i]['color'])\r\n",
    "        PCLs[i].plot(ax = ax, facecolor = 'none', edgecolor = 'black', lw = 0.1)\r\n",
    "        #BLKs[i].plot(ax = ax, facecolor = 'none', edgecolor = 'white', lw = 0.2)\r\n",
    "        RWs[i].plot(ax = ax, color = 'gray')\r\n",
    "        \r\n",
    "        #plt.show()\r\n",
    "        fig_name = './blks4/sample_{}'.format(str(i))\r\n",
    "        \r\n",
    "        fig.savefig(fig_name)\r\n",
    "    return 0\r\n",
    "useColorcode([trimmed_LUs4, trimmed_RWs4, trimmed_PCLs4])"
   ],
   "outputs": [],
   "metadata": {}
  },
  {
   "cell_type": "code",
   "execution_count": null,
   "source": [
    "if len(trimmed_BULDs2[6]):\r\n",
    "    trimmed_BULDs2[0].fillna(0, inplace = True)\r\n",
    "trimmed_BULDs2[6]"
   ],
   "outputs": [],
   "metadata": {}
  },
  {
   "cell_type": "code",
   "execution_count": 12,
   "source": [
    "# Join building height to parcel\r\n",
    "def parcel_height(parcels, buildings):\r\n",
    "    '''\r\n",
    "    Join average building height (floor) by matching parcel\r\n",
    "    Input: List of GeoDataFrame, List of GeoDataFrame / Output: List of GeoDataFrame\r\n",
    "    '''\r\n",
    "    parcel_Hs = []\r\n",
    "    for i in range(len(parcels)):\r\n",
    "        parcel = parcels[i]\r\n",
    "        building = buildings[i]\r\n",
    "        building_h = building[['GRO_FLO_CO', 'geometry']]\r\n",
    "        parcel_h = gpd.sjoin(parcel, building_h, how = 'left')\r\n",
    "        parcel_meanH = parcel_h.groupby('PNU').mean()\r\n",
    "        parcel_H = parcel.merge(parcel_meanH, on = 'PNU')\r\n",
    "        try:\r\n",
    "            parcel_H['GRO_FLO_CO'].fillna(0, inplace = True)\r\n",
    "        except: pass\r\n",
    "        parcel_Hs.append(parcel_H)\r\n",
    "    return parcel_Hs\r\n",
    "\r\n",
    "PCL_Hs = parcel_height(trimmed_PCLs4, trimmed_BULDs4)\r\n",
    "print(len(PCL_Hs))\r\n",
    "#print(PCL_Hs[0]['GRO_FLO_CO'])\r\n"
   ],
   "outputs": [
    {
     "output_type": "stream",
     "name": "stdout",
     "text": [
      "5191\n"
     ]
    }
   ],
   "metadata": {}
  },
  {
   "cell_type": "code",
   "execution_count": null,
   "source": [
    "# Parcel to color\r\n",
    "h_colorcode = [(25/255, 0, 0), (50/255, 0, 0), (75/255, 0, 0), (100/255, 0, 0), (125/255, 0, 0),\r\n",
    "               (150/255, 0, 0), (175/255, 0, 0), (200/255, 0, 0), (225/255, 0, 0), (250/255, 0, 0)]\r\n",
    "plt.close()\r\n",
    "def parcel_Hcolor(parcels):\r\n",
    "    '''\r\n",
    "    Give RGB gradation according to the parcel's height\r\n",
    "    Input: List of GeoDataFrame / Output: List of imgs\r\n",
    "    '''\r\n",
    "    for i in range(len(parcels)):\r\n",
    "        parcel = parcels[i]\r\n",
    "        try:\r\n",
    "            parcel['color'] = pd.qcut(parcel['GRO_FLO_CO'], bins = 10, labels = h_colorcode, include_lowest = True)\r\n",
    "        except: pass\r\n",
    "        #parcel['color'].replace(0, (0, 1,1), inplace = True)\r\n",
    "        my_dpi = 96\r\n",
    "        fig, ax = plt.subplots(figsize = (512/my_dpi, 512/my_dpi), dpi = my_dpi)\r\n",
    "        ax.set_axis_off()\r\n",
    "        try: parcel.plot(ax = ax, color = parcel['color'], edgecolor = 'None')\r\n",
    "        except: parcel.plot(ax = ax, color = '#FFFFFF', edgecolor = 'None')\r\n",
    "        fig_name = './new_bld4/sample_building_{}'.format(str(i))\r\n",
    "        fig.savefig(fig_name)\r\n",
    "    return parcel\r\n",
    "parcel_Hcolor(PCL_Hs)"
   ],
   "outputs": [],
   "metadata": {}
  },
  {
   "cell_type": "code",
   "execution_count": null,
   "source": [
    "# Color to height by pixel\r\n"
   ],
   "outputs": [],
   "metadata": {}
  },
  {
   "cell_type": "code",
   "execution_count": null,
   "source": [
    "# Give Style\r\n",
    "plt.ioff()\r\n",
    "EMD_gdf.plot()\r\n",
    "plt.savefig('./img/EMD.png')\r\n",
    "plt.close()"
   ],
   "outputs": [],
   "metadata": {}
  },
  {
   "cell_type": "code",
   "execution_count": null,
   "source": [
    "EMD_gdf.plot()"
   ],
   "outputs": [],
   "metadata": {}
  },
  {
   "cell_type": "code",
   "execution_count": 3,
   "source": [
    "temp = [1, 2, 3, 4, 5, 6, 7, 8, 9, 10]\r\n",
    "cut = [[:3], [3:6], [6:]]\r\n"
   ],
   "outputs": [
    {
     "output_type": "stream",
     "name": "stdout",
     "text": [
      "0\n",
      "3\n",
      "6\n",
      "9\n"
     ]
    }
   ],
   "metadata": {}
  }
 ],
 "metadata": {
  "orig_nbformat": 4,
  "language_info": {
   "name": "python",
   "version": "3.8.5",
   "mimetype": "text/x-python",
   "codemirror_mode": {
    "name": "ipython",
    "version": 3
   },
   "pygments_lexer": "ipython3",
   "nbconvert_exporter": "python",
   "file_extension": ".py"
  },
  "kernelspec": {
   "name": "python3",
   "display_name": "Python 3.8.5 64-bit ('base': conda)"
  },
  "interpreter": {
   "hash": "ff5e454fa5552c7d804ce6af45524330e997a6af6b806cd20eee78b4fc64ba76"
  }
 },
 "nbformat": 4,
 "nbformat_minor": 2
}